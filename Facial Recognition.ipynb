{
 "cells": [
  {
   "cell_type": "code",
   "execution_count": 1,
   "id": "cb6bd15a",
   "metadata": {},
   "outputs": [],
   "source": [
    "#specifying the folder where images are present"
   ]
  },
  {
   "cell_type": "code",
   "execution_count": 28,
   "id": "8323cbe5",
   "metadata": {},
   "outputs": [],
   "source": [
    "TrainingImagePath = \"D:\\\\PGDA-28\\\\Capstone Projects\\\\Capstone Project On Facial Recognition\\\\Facial Reco\\\\train\""
   ]
  },
  {
   "cell_type": "code",
   "execution_count": 29,
   "id": "da596b09",
   "metadata": {},
   "outputs": [],
   "source": [
    "validationImagePath = \"D:\\\\PGDA-28\\\\Capstone Projects\\\\Capstone Project On Facial Recognition\\\\Facial Reco\\\\validation\""
   ]
  },
  {
   "cell_type": "code",
   "execution_count": 30,
   "id": "0b3a86e5",
   "metadata": {},
   "outputs": [],
   "source": [
    "from keras.preprocessing.image import ImageDataGenerator"
   ]
  },
  {
   "cell_type": "code",
   "execution_count": 31,
   "id": "093f4fd0",
   "metadata": {},
   "outputs": [],
   "source": [
    "#base model"
   ]
  },
  {
   "cell_type": "code",
   "execution_count": 32,
   "id": "13be2a8a",
   "metadata": {},
   "outputs": [],
   "source": [
    "train_datagen = ImageDataGenerator(rescale = 1./225)"
   ]
  },
  {
   "cell_type": "code",
   "execution_count": 33,
   "id": "2c1a367d",
   "metadata": {},
   "outputs": [],
   "source": [
    "test_datagen = ImageDataGenerator(rescale = 1./225)"
   ]
  },
  {
   "cell_type": "code",
   "execution_count": 34,
   "id": "b3ee156d",
   "metadata": {},
   "outputs": [],
   "source": [
    "#Generating the training data"
   ]
  },
  {
   "cell_type": "code",
   "execution_count": 35,
   "id": "dfa42c58",
   "metadata": {},
   "outputs": [
    {
     "name": "stdout",
     "output_type": "stream",
     "text": [
      "Found 200 images belonging to 25 classes.\n"
     ]
    }
   ],
   "source": [
    "training_set = train_datagen.flow_from_directory(TrainingImagePath,\n",
    "                                                target_size = (64,64),\n",
    "                                                batch_size = 20,\n",
    "                                                class_mode = 'categorical')"
   ]
  },
  {
   "cell_type": "markdown",
   "id": "2c15810a",
   "metadata": {},
   "source": [
    "# Validation set"
   ]
  },
  {
   "cell_type": "code",
   "execution_count": null,
   "id": "fd5caa5e",
   "metadata": {},
   "outputs": [],
   "source": [
    "#Generating the validation data"
   ]
  },
  {
   "cell_type": "code",
   "execution_count": 36,
   "id": "3cc075fc",
   "metadata": {},
   "outputs": [
    {
     "name": "stdout",
     "output_type": "stream",
     "text": [
      "Found 50 images belonging to 25 classes.\n"
     ]
    }
   ],
   "source": [
    "validation_set = test_datagen.flow_from_directory(validationImagePath,\n",
    "                                                target_size = (64,64),\n",
    "                                                batch_size = 20,\n",
    "                                                class_mode = 'categorical')"
   ]
  },
  {
   "cell_type": "code",
   "execution_count": 37,
   "id": "2449158c",
   "metadata": {},
   "outputs": [],
   "source": [
    "# Libraries and model type"
   ]
  },
  {
   "cell_type": "code",
   "execution_count": 38,
   "id": "1876bc63",
   "metadata": {},
   "outputs": [],
   "source": [
    "# Create CNN Deep learning model"
   ]
  },
  {
   "cell_type": "code",
   "execution_count": 39,
   "id": "ece0fe30",
   "metadata": {},
   "outputs": [],
   "source": [
    "from keras.models import Sequential\n",
    "from keras.layers import Convolution2D\n",
    "from keras.layers import MaxPool2D\n",
    "from keras.layers import Flatten\n",
    "from keras.layers import Dense"
   ]
  },
  {
   "cell_type": "code",
   "execution_count": 40,
   "id": "8e020c1c",
   "metadata": {},
   "outputs": [],
   "source": [
    "# Initializing the Convolutional Neural Network"
   ]
  },
  {
   "cell_type": "code",
   "execution_count": 41,
   "id": "2fff8cc7",
   "metadata": {},
   "outputs": [],
   "source": [
    "classifier = Sequential()"
   ]
  },
  {
   "cell_type": "markdown",
   "id": "4cfe1d78",
   "metadata": {},
   "source": [
    "# MODEL"
   ]
  },
  {
   "cell_type": "code",
   "execution_count": 42,
   "id": "8492de9e",
   "metadata": {},
   "outputs": [],
   "source": [
    "# STEP 1 Convolution\n",
    "# Adding th e first layer of CNN\n",
    "# We are using the format (64,64,3) because we are using Tensorflow backend\n",
    "# It means 3 matrix of size (64x64) pixels representing Red, Green and Blue components of pixels"
   ]
  },
  {
   "cell_type": "code",
   "execution_count": 43,
   "id": "32963cf9",
   "metadata": {},
   "outputs": [],
   "source": [
    "classifier.add(Convolution2D(32, kernel_size=(3,3),\n",
    "                            input_shape=(64,64,3), activation ='relu'))"
   ]
  },
  {
   "cell_type": "code",
   "execution_count": 44,
   "id": "d839be54",
   "metadata": {},
   "outputs": [],
   "source": [
    "#STEP 2- Max Pooling"
   ]
  },
  {
   "cell_type": "code",
   "execution_count": 45,
   "id": "89846aab",
   "metadata": {},
   "outputs": [],
   "source": [
    "classifier.add(MaxPool2D(pool_size=(2,2)))"
   ]
  },
  {
   "cell_type": "code",
   "execution_count": 46,
   "id": "2b18d1c4",
   "metadata": {},
   "outputs": [],
   "source": [
    "# Additional layer of convolution for better accuracy"
   ]
  },
  {
   "cell_type": "code",
   "execution_count": 47,
   "id": "1170bde1",
   "metadata": {},
   "outputs": [],
   "source": [
    "classifier.add(Convolution2D(64, kernel_size=(3,3), activation='relu'))"
   ]
  },
  {
   "cell_type": "code",
   "execution_count": 48,
   "id": "26797a27",
   "metadata": {},
   "outputs": [],
   "source": [
    "classifier.add(MaxPool2D(pool_size=(2,2)))"
   ]
  },
  {
   "cell_type": "code",
   "execution_count": 49,
   "id": "31e1c251",
   "metadata": {},
   "outputs": [],
   "source": [
    "#STEP 3- Flattening"
   ]
  },
  {
   "cell_type": "code",
   "execution_count": 50,
   "id": "abef6142",
   "metadata": {},
   "outputs": [],
   "source": [
    "classifier.add(Flatten())"
   ]
  },
  {
   "cell_type": "code",
   "execution_count": 51,
   "id": "d2e9867d",
   "metadata": {},
   "outputs": [],
   "source": [
    "#STEP 4 - Fully connected neural network"
   ]
  },
  {
   "cell_type": "code",
   "execution_count": 52,
   "id": "5bc26754",
   "metadata": {},
   "outputs": [],
   "source": [
    "classifier.add(Dense(64, activation='relu'))"
   ]
  },
  {
   "cell_type": "code",
   "execution_count": 53,
   "id": "ab05d9c6",
   "metadata": {},
   "outputs": [],
   "source": [
    "classifier.add(Dense(25, activation='softmax'))"
   ]
  },
  {
   "cell_type": "code",
   "execution_count": 54,
   "id": "1521fca7",
   "metadata": {},
   "outputs": [
    {
     "name": "stdout",
     "output_type": "stream",
     "text": [
      "Model: \"sequential\"\n",
      "_________________________________________________________________\n",
      " Layer (type)                Output Shape              Param #   \n",
      "=================================================================\n",
      " conv2d (Conv2D)             (None, 62, 62, 32)        896       \n",
      "                                                                 \n",
      " max_pooling2d (MaxPooling2D  (None, 31, 31, 32)       0         \n",
      " )                                                               \n",
      "                                                                 \n",
      " conv2d_1 (Conv2D)           (None, 29, 29, 64)        18496     \n",
      "                                                                 \n",
      " max_pooling2d_1 (MaxPooling  (None, 14, 14, 64)       0         \n",
      " 2D)                                                             \n",
      "                                                                 \n",
      " flatten (Flatten)           (None, 12544)             0         \n",
      "                                                                 \n",
      " dense (Dense)               (None, 64)                802880    \n",
      "                                                                 \n",
      " dense_1 (Dense)             (None, 25)                1625      \n",
      "                                                                 \n",
      "=================================================================\n",
      "Total params: 823,897\n",
      "Trainable params: 823,897\n",
      "Non-trainable params: 0\n",
      "_________________________________________________________________\n"
     ]
    }
   ],
   "source": [
    "classifier.summary()"
   ]
  },
  {
   "cell_type": "markdown",
   "id": "aa3726de",
   "metadata": {},
   "source": [
    "# Compiler"
   ]
  },
  {
   "cell_type": "code",
   "execution_count": 55,
   "id": "b7cdf085",
   "metadata": {},
   "outputs": [],
   "source": [
    "# Compiling the CNN"
   ]
  },
  {
   "cell_type": "code",
   "execution_count": 56,
   "id": "21641481",
   "metadata": {},
   "outputs": [],
   "source": [
    "classifier.compile(loss='categorical_crossentropy',\n",
    "                  optimizer = 'adam', metrics =['accuracy'])"
   ]
  },
  {
   "cell_type": "markdown",
   "id": "e1a12966",
   "metadata": {},
   "source": [
    "# Execution of model"
   ]
  },
  {
   "cell_type": "code",
   "execution_count": 57,
   "id": "36a06941",
   "metadata": {},
   "outputs": [],
   "source": [
    "# Starting the model training"
   ]
  },
  {
   "cell_type": "code",
   "execution_count": 58,
   "id": "48f4fa72",
   "metadata": {},
   "outputs": [
    {
     "name": "stderr",
     "output_type": "stream",
     "text": [
      "C:\\Users\\DELL\\AppData\\Local\\Temp\\ipykernel_12964\\2354014473.py:1: UserWarning: `Model.fit_generator` is deprecated and will be removed in a future version. Please use `Model.fit`, which supports generators.\n",
      "  history = classifier.fit_generator(training_set, epochs =20,\n"
     ]
    },
    {
     "name": "stdout",
     "output_type": "stream",
     "text": [
      "Epoch 1/20\n",
      "10/10 [==============================] - 14s 1s/step - loss: 3.2419 - accuracy: 0.0900 - val_loss: 3.1059 - val_accuracy: 0.2400\n",
      "Epoch 2/20\n",
      "10/10 [==============================] - 8s 836ms/step - loss: 2.9077 - accuracy: 0.2950 - val_loss: 2.7232 - val_accuracy: 0.3200\n",
      "Epoch 3/20\n",
      "10/10 [==============================] - 8s 838ms/step - loss: 2.2802 - accuracy: 0.4550 - val_loss: 2.1523 - val_accuracy: 0.4400\n",
      "Epoch 4/20\n",
      "10/10 [==============================] - 8s 847ms/step - loss: 1.5123 - accuracy: 0.6700 - val_loss: 1.6999 - val_accuracy: 0.5200\n",
      "Epoch 5/20\n",
      "10/10 [==============================] - 8s 858ms/step - loss: 0.8852 - accuracy: 0.8200 - val_loss: 1.2465 - val_accuracy: 0.6400\n",
      "Epoch 6/20\n",
      "10/10 [==============================] - 8s 874ms/step - loss: 0.3976 - accuracy: 0.9100 - val_loss: 1.0326 - val_accuracy: 0.7400\n",
      "Epoch 7/20\n",
      "10/10 [==============================] - 9s 872ms/step - loss: 0.1969 - accuracy: 0.9700 - val_loss: 0.9856 - val_accuracy: 0.7600\n",
      "Epoch 8/20\n",
      "10/10 [==============================] - 8s 863ms/step - loss: 0.0703 - accuracy: 0.9900 - val_loss: 1.1122 - val_accuracy: 0.7000\n",
      "Epoch 9/20\n",
      "10/10 [==============================] - 9s 887ms/step - loss: 0.0399 - accuracy: 0.9950 - val_loss: 1.0179 - val_accuracy: 0.7600\n",
      "Epoch 10/20\n",
      "10/10 [==============================] - 9s 869ms/step - loss: 0.0241 - accuracy: 1.0000 - val_loss: 0.9192 - val_accuracy: 0.8000\n",
      "Epoch 11/20\n",
      "10/10 [==============================] - 9s 888ms/step - loss: 0.0172 - accuracy: 1.0000 - val_loss: 0.9532 - val_accuracy: 0.7600\n",
      "Epoch 12/20\n",
      "10/10 [==============================] - 9s 911ms/step - loss: 0.0072 - accuracy: 1.0000 - val_loss: 0.8366 - val_accuracy: 0.7800\n",
      "Epoch 13/20\n",
      "10/10 [==============================] - 9s 882ms/step - loss: 0.0058 - accuracy: 1.0000 - val_loss: 0.8336 - val_accuracy: 0.7600\n",
      "Epoch 14/20\n",
      "10/10 [==============================] - 9s 897ms/step - loss: 0.0037 - accuracy: 1.0000 - val_loss: 0.8422 - val_accuracy: 0.8200\n",
      "Epoch 15/20\n",
      "10/10 [==============================] - 9s 889ms/step - loss: 0.0026 - accuracy: 1.0000 - val_loss: 0.8296 - val_accuracy: 0.8200\n",
      "Epoch 16/20\n",
      "10/10 [==============================] - 9s 898ms/step - loss: 0.0022 - accuracy: 1.0000 - val_loss: 0.8711 - val_accuracy: 0.7800\n",
      "Epoch 17/20\n",
      "10/10 [==============================] - 9s 888ms/step - loss: 0.0018 - accuracy: 1.0000 - val_loss: 0.8444 - val_accuracy: 0.8400\n",
      "Epoch 18/20\n",
      "10/10 [==============================] - 9s 879ms/step - loss: 0.0015 - accuracy: 1.0000 - val_loss: 0.8593 - val_accuracy: 0.8200\n",
      "Epoch 19/20\n",
      "10/10 [==============================] - 9s 880ms/step - loss: 0.0013 - accuracy: 1.0000 - val_loss: 0.8672 - val_accuracy: 0.8000\n",
      "Epoch 20/20\n",
      "10/10 [==============================] - 9s 874ms/step - loss: 0.0011 - accuracy: 1.0000 - val_loss: 0.8660 - val_accuracy: 0.8000\n"
     ]
    }
   ],
   "source": [
    "history = classifier.fit_generator(training_set, epochs =20,\n",
    "                                  validation_data=validation_set)"
   ]
  },
  {
   "cell_type": "markdown",
   "id": "a667778a",
   "metadata": {},
   "source": [
    "# Accuracy base model"
   ]
  },
  {
   "cell_type": "code",
   "execution_count": 59,
   "id": "da29d502",
   "metadata": {},
   "outputs": [],
   "source": [
    "#Displaying curves of loss and accuracy during training"
   ]
  },
  {
   "cell_type": "code",
   "execution_count": 60,
   "id": "6a3b388c",
   "metadata": {},
   "outputs": [],
   "source": [
    "import matplotlib.pyplot as plt"
   ]
  },
  {
   "cell_type": "code",
   "execution_count": 61,
   "id": "a2f54536",
   "metadata": {},
   "outputs": [],
   "source": [
    "acc = history.history['accuracy']"
   ]
  },
  {
   "cell_type": "code",
   "execution_count": 62,
   "id": "4d3c58b8",
   "metadata": {},
   "outputs": [],
   "source": [
    "val_acc = history.history['val_accuracy']"
   ]
  },
  {
   "cell_type": "code",
   "execution_count": 63,
   "id": "c4eade01",
   "metadata": {},
   "outputs": [],
   "source": [
    "loss = history.history['loss']"
   ]
  },
  {
   "cell_type": "code",
   "execution_count": 64,
   "id": "e04e4857",
   "metadata": {},
   "outputs": [],
   "source": [
    "val_loss = history.history['val_loss']"
   ]
  },
  {
   "cell_type": "code",
   "execution_count": 65,
   "id": "30d0b84f",
   "metadata": {},
   "outputs": [],
   "source": [
    "epochs = range(1, len(acc) + 1)"
   ]
  },
  {
   "cell_type": "code",
   "execution_count": 66,
   "id": "7002cc49",
   "metadata": {},
   "outputs": [
    {
     "data": {
      "text/plain": [
       "<Figure size 640x480 with 0 Axes>"
      ]
     },
     "execution_count": 66,
     "metadata": {},
     "output_type": "execute_result"
    },
    {
     "data": {
      "image/png": "[encoded data removed]",
      "text/plain": [
       "<Figure size 640x480 with 1 Axes>"
      ]
     },
     "metadata": {},
     "output_type": "display_data"
    },
    {
     "data": {
      "text/plain": [
       "<Figure size 640x480 with 0 Axes>"
      ]
     },
     "metadata": {},
     "output_type": "display_data"
    }
   ],
   "source": [
    "plt.plot(epochs, acc, 'bo', label='Training acc')\n",
    "plt.plot(epochs, val_acc, 'r', label='Validation acc')\n",
    "plt.title('Training and validation accuracy')\n",
    "plt.legend()\n",
    "plt.figure()"
   ]
  },
  {
   "cell_type": "markdown",
   "id": "e204e892",
   "metadata": {},
   "source": [
    "# Loss base model"
   ]
  },
  {
   "cell_type": "code",
   "execution_count": 67,
   "id": "11e1d8e3",
   "metadata": {},
   "outputs": [
    {
     "data": {
      "text/plain": [
       "<Figure size 640x480 with 0 Axes>"
      ]
     },
     "execution_count": 67,
     "metadata": {},
     "output_type": "execute_result"
    },
    {
     "data": {
      "image/png": "[encoded data removed]",
      "text/plain": [
       "<Figure size 640x480 with 1 Axes>"
      ]
     },
     "metadata": {},
     "output_type": "display_data"
    },
    {
     "data": {
      "text/plain": [
       "<Figure size 640x480 with 0 Axes>"
      ]
     },
     "metadata": {},
     "output_type": "display_data"
    }
   ],
   "source": [
    "plt.plot(epochs, loss, 'bo', label='Training loss')\n",
    "plt.plot(epochs, val_loss, 'r', label='Validation loss')\n",
    "plt.title('Training and validation loss')\n",
    "plt.legend()\n",
    "plt.figure()"
   ]
  },
  {
   "cell_type": "code",
   "execution_count": 68,
   "id": "e42e2f8e",
   "metadata": {},
   "outputs": [],
   "source": [
    "# Lets improve"
   ]
  },
  {
   "cell_type": "code",
   "execution_count": 69,
   "id": "938e7633",
   "metadata": {},
   "outputs": [],
   "source": [
    "# Model 2"
   ]
  },
  {
   "cell_type": "code",
   "execution_count": 70,
   "id": "d36a13e2",
   "metadata": {},
   "outputs": [],
   "source": [
    "# Adding parameters in the ImageDatagenerator"
   ]
  },
  {
   "cell_type": "code",
   "execution_count": 71,
   "id": "b327fbe6",
   "metadata": {},
   "outputs": [],
   "source": [
    "train_datagen = ImageDataGenerator(rescale=1./225, shear_range=0.5,\n",
    "                                  zoom_range=0.5, width_shift_range=0.2,\n",
    "                                  height_shift_range=0.2)"
   ]
  },
  {
   "cell_type": "code",
   "execution_count": 72,
   "id": "1cc4e1de",
   "metadata": {},
   "outputs": [],
   "source": [
    "# No transformations are done on the testing images"
   ]
  },
  {
   "cell_type": "code",
   "execution_count": 73,
   "id": "c95e3a4b",
   "metadata": {},
   "outputs": [],
   "source": [
    "test_datgen = ImageDataGenerator(rescale=1./225)"
   ]
  },
  {
   "cell_type": "code",
   "execution_count": 74,
   "id": "7a842909",
   "metadata": {},
   "outputs": [],
   "source": [
    "# Generating the training data"
   ]
  },
  {
   "cell_type": "code",
   "execution_count": 75,
   "id": "e4eec759",
   "metadata": {},
   "outputs": [
    {
     "name": "stdout",
     "output_type": "stream",
     "text": [
      "Found 200 images belonging to 25 classes.\n"
     ]
    }
   ],
   "source": [
    "training_set = train_datagen.flow_from_directory(TrainingImagePath,\n",
    "                                                target_size=(64,64),\n",
    "                                                batch_size=20,\n",
    "                                                class_mode='categorical')"
   ]
  },
  {
   "cell_type": "code",
   "execution_count": 76,
   "id": "31d3f981",
   "metadata": {},
   "outputs": [],
   "source": [
    "# Generating the validation data"
   ]
  },
  {
   "cell_type": "code",
   "execution_count": 77,
   "id": "2ac9a009",
   "metadata": {},
   "outputs": [
    {
     "name": "stdout",
     "output_type": "stream",
     "text": [
      "Found 50 images belonging to 25 classes.\n"
     ]
    }
   ],
   "source": [
    "validation_set = test_datagen.flow_from_directory(validationImagePath,\n",
    "                                                target_size=(64,64),\n",
    "                                                batch_size=20,\n",
    "                                                class_mode='categorical')"
   ]
  },
  {
   "cell_type": "code",
   "execution_count": 78,
   "id": "419ed527",
   "metadata": {},
   "outputs": [],
   "source": [
    "#Create Cnn deep learning model"
   ]
  },
  {
   "cell_type": "code",
   "execution_count": 79,
   "id": "dd2270d6",
   "metadata": {},
   "outputs": [],
   "source": [
    "from keras.models import Sequential\n",
    "from keras.layers import Convolution2D\n",
    "from keras.layers import MaxPool2D\n",
    "from keras.layers import Flatten\n",
    "from keras.layers import Dense"
   ]
  },
  {
   "cell_type": "code",
   "execution_count": 80,
   "id": "e7991c5a",
   "metadata": {},
   "outputs": [],
   "source": [
    "# Initializing the Convolutional Neural Network"
   ]
  },
  {
   "cell_type": "code",
   "execution_count": 81,
   "id": "b35b1bd3",
   "metadata": {},
   "outputs": [],
   "source": [
    "classifier = Sequential()"
   ]
  },
  {
   "cell_type": "code",
   "execution_count": 82,
   "id": "675de677",
   "metadata": {},
   "outputs": [],
   "source": [
    "# Convolution"
   ]
  },
  {
   "cell_type": "code",
   "execution_count": 83,
   "id": "41ea7190",
   "metadata": {},
   "outputs": [],
   "source": [
    "classifier.add(Convolution2D(32, kernel_size=(3,3),\n",
    "                            input_shape=(64,64,3), activation ='relu'))"
   ]
  },
  {
   "cell_type": "code",
   "execution_count": 84,
   "id": "67ccb2d7",
   "metadata": {},
   "outputs": [],
   "source": [
    "#Max Pooling"
   ]
  },
  {
   "cell_type": "code",
   "execution_count": 85,
   "id": "4274ae60",
   "metadata": {},
   "outputs": [],
   "source": [
    "classifier.add(MaxPool2D(pool_size=(2,2)))"
   ]
  },
  {
   "cell_type": "code",
   "execution_count": 86,
   "id": "09ee17bb",
   "metadata": {},
   "outputs": [],
   "source": [
    "# Additional layer of convolution for better accuracy"
   ]
  },
  {
   "cell_type": "code",
   "execution_count": 87,
   "id": "59700aaf",
   "metadata": {},
   "outputs": [],
   "source": [
    "classifier.add(Convolution2D(64, kernel_size=(3,3), activation='relu'))"
   ]
  },
  {
   "cell_type": "code",
   "execution_count": 88,
   "id": "6a26d79a",
   "metadata": {},
   "outputs": [],
   "source": [
    "classifier.add(MaxPool2D(pool_size=(2,2)))"
   ]
  },
  {
   "cell_type": "code",
   "execution_count": 89,
   "id": "63e421f6",
   "metadata": {},
   "outputs": [],
   "source": [
    "#Flattening"
   ]
  },
  {
   "cell_type": "code",
   "execution_count": 90,
   "id": "ee3eb2d6",
   "metadata": {},
   "outputs": [],
   "source": [
    "classifier.add(Flatten())"
   ]
  },
  {
   "cell_type": "code",
   "execution_count": 91,
   "id": "521c5572",
   "metadata": {},
   "outputs": [],
   "source": [
    "#Fully connected neural network"
   ]
  },
  {
   "cell_type": "code",
   "execution_count": 92,
   "id": "4b484240",
   "metadata": {},
   "outputs": [],
   "source": [
    "classifier.add(Dense(64, activation='relu'))#hidden layer"
   ]
  },
  {
   "cell_type": "code",
   "execution_count": 93,
   "id": "9c0df7bb",
   "metadata": {},
   "outputs": [],
   "source": [
    "classifier.add(Dense(25, activation='softmax'))#output layer"
   ]
  },
  {
   "cell_type": "code",
   "execution_count": 94,
   "id": "2a29ce4b",
   "metadata": {},
   "outputs": [
    {
     "name": "stdout",
     "output_type": "stream",
     "text": [
      "Model: \"sequential_1\"\n",
      "_________________________________________________________________\n",
      " Layer (type)                Output Shape              Param #   \n",
      "=================================================================\n",
      " conv2d_2 (Conv2D)           (None, 62, 62, 32)        896       \n",
      "                                                                 \n",
      " max_pooling2d_2 (MaxPooling  (None, 31, 31, 32)       0         \n",
      " 2D)                                                             \n",
      "                                                                 \n",
      " conv2d_3 (Conv2D)           (None, 29, 29, 64)        18496     \n",
      "                                                                 \n",
      " max_pooling2d_3 (MaxPooling  (None, 14, 14, 64)       0         \n",
      " 2D)                                                             \n",
      "                                                                 \n",
      " flatten_1 (Flatten)         (None, 12544)             0         \n",
      "                                                                 \n",
      " dense_2 (Dense)             (None, 64)                802880    \n",
      "                                                                 \n",
      " dense_3 (Dense)             (None, 25)                1625      \n",
      "                                                                 \n",
      "=================================================================\n",
      "Total params: 823,897\n",
      "Trainable params: 823,897\n",
      "Non-trainable params: 0\n",
      "_________________________________________________________________\n"
     ]
    }
   ],
   "source": [
    "classifier.summary()"
   ]
  },
  {
   "cell_type": "code",
   "execution_count": 95,
   "id": "10684d06",
   "metadata": {},
   "outputs": [],
   "source": [
    "#Compiler"
   ]
  },
  {
   "cell_type": "code",
   "execution_count": 96,
   "id": "cc589088",
   "metadata": {},
   "outputs": [],
   "source": [
    "classifier.compile(loss='categorical_crossentropy',\n",
    "                  optimizer='adam', metrics=['accuracy'])"
   ]
  },
  {
   "cell_type": "code",
   "execution_count": 97,
   "id": "74654438",
   "metadata": {},
   "outputs": [],
   "source": [
    "#Execute"
   ]
  },
  {
   "cell_type": "code",
   "execution_count": 98,
   "id": "e2cf2a98",
   "metadata": {},
   "outputs": [],
   "source": [
    "#Starting the model training"
   ]
  },
  {
   "cell_type": "code",
   "execution_count": 99,
   "id": "76babdab",
   "metadata": {},
   "outputs": [
    {
     "name": "stderr",
     "output_type": "stream",
     "text": [
      "C:\\Users\\DELL\\AppData\\Local\\Temp\\ipykernel_12964\\346272482.py:1: UserWarning: `Model.fit_generator` is deprecated and will be removed in a future version. Please use `Model.fit`, which supports generators.\n",
      "  history = classifier.fit_generator(training_set, epochs =100,\n"
     ]
    },
    {
     "name": "stdout",
     "output_type": "stream",
     "text": [
      "Epoch 1/100\n",
      "10/10 [==============================] - 10s 933ms/step - loss: 3.3886 - accuracy: 0.0250 - val_loss: 3.2114 - val_accuracy: 0.0400\n",
      "Epoch 2/100\n",
      "10/10 [==============================] - 9s 872ms/step - loss: 3.2180 - accuracy: 0.0400 - val_loss: 3.2114 - val_accuracy: 0.0400\n",
      "Epoch 3/100\n",
      "10/10 [==============================] - 9s 887ms/step - loss: 3.2121 - accuracy: 0.0500 - val_loss: 3.1946 - val_accuracy: 0.1400\n",
      "Epoch 4/100\n",
      "10/10 [==============================] - 9s 912ms/step - loss: 3.2094 - accuracy: 0.0750 - val_loss: 3.1630 - val_accuracy: 0.0800\n",
      "Epoch 5/100\n",
      "10/10 [==============================] - 9s 931ms/step - loss: 3.1309 - accuracy: 0.0900 - val_loss: 3.0382 - val_accuracy: 0.0800\n",
      "Epoch 6/100\n",
      "10/10 [==============================] - 9s 926ms/step - loss: 3.0540 - accuracy: 0.0750 - val_loss: 2.9405 - val_accuracy: 0.1400\n",
      "Epoch 7/100\n",
      "10/10 [==============================] - 9s 932ms/step - loss: 2.9632 - accuracy: 0.1050 - val_loss: 2.8104 - val_accuracy: 0.1600\n",
      "Epoch 8/100\n",
      "10/10 [==============================] - 9s 932ms/step - loss: 2.8438 - accuracy: 0.1300 - val_loss: 2.8473 - val_accuracy: 0.2000\n",
      "Epoch 9/100\n",
      "10/10 [==============================] - 9s 911ms/step - loss: 2.7543 - accuracy: 0.2000 - val_loss: 2.6444 - val_accuracy: 0.2200\n",
      "Epoch 10/100\n",
      "10/10 [==============================] - 9s 901ms/step - loss: 2.6306 - accuracy: 0.2300 - val_loss: 2.5290 - val_accuracy: 0.3000\n",
      "Epoch 11/100\n",
      "10/10 [==============================] - 9s 936ms/step - loss: 2.5714 - accuracy: 0.2100 - val_loss: 2.5214 - val_accuracy: 0.2800\n",
      "Epoch 12/100\n",
      "10/10 [==============================] - 9s 919ms/step - loss: 2.4890 - accuracy: 0.2600 - val_loss: 2.3838 - val_accuracy: 0.3400\n",
      "Epoch 13/100\n",
      "10/10 [==============================] - 9s 933ms/step - loss: 2.4059 - accuracy: 0.2750 - val_loss: 2.3501 - val_accuracy: 0.3200\n",
      "Epoch 14/100\n",
      "10/10 [==============================] - 9s 924ms/step - loss: 2.3624 - accuracy: 0.2900 - val_loss: 2.0846 - val_accuracy: 0.3400\n",
      "Epoch 15/100\n",
      "10/10 [==============================] - 10s 994ms/step - loss: 2.3248 - accuracy: 0.2600 - val_loss: 2.0690 - val_accuracy: 0.3600\n",
      "Epoch 16/100\n",
      "10/10 [==============================] - 9s 950ms/step - loss: 2.2327 - accuracy: 0.2900 - val_loss: 2.0129 - val_accuracy: 0.3800\n",
      "Epoch 17/100\n",
      "10/10 [==============================] - 10s 1s/step - loss: 2.0925 - accuracy: 0.3500 - val_loss: 1.8675 - val_accuracy: 0.5400\n",
      "Epoch 18/100\n",
      "10/10 [==============================] - 10s 981ms/step - loss: 1.9894 - accuracy: 0.3650 - val_loss: 1.7446 - val_accuracy: 0.5400\n",
      "Epoch 19/100\n",
      "10/10 [==============================] - 10s 1s/step - loss: 1.8668 - accuracy: 0.4400 - val_loss: 1.7744 - val_accuracy: 0.4800\n",
      "Epoch 20/100\n",
      "10/10 [==============================] - 9s 962ms/step - loss: 1.8293 - accuracy: 0.4600 - val_loss: 1.6362 - val_accuracy: 0.6000\n",
      "Epoch 21/100\n",
      "10/10 [==============================] - 9s 928ms/step - loss: 1.6798 - accuracy: 0.5350 - val_loss: 1.7399 - val_accuracy: 0.3800\n",
      "Epoch 22/100\n",
      "10/10 [==============================] - 9s 951ms/step - loss: 1.6515 - accuracy: 0.5200 - val_loss: 1.6378 - val_accuracy: 0.4800\n",
      "Epoch 23/100\n",
      "10/10 [==============================] - 9s 963ms/step - loss: 1.6816 - accuracy: 0.5200 - val_loss: 1.5126 - val_accuracy: 0.6400\n",
      "Epoch 24/100\n",
      "10/10 [==============================] - 10s 992ms/step - loss: 1.4316 - accuracy: 0.6000 - val_loss: 1.4968 - val_accuracy: 0.5800\n",
      "Epoch 25/100\n",
      "10/10 [==============================] - 9s 972ms/step - loss: 1.4046 - accuracy: 0.5950 - val_loss: 1.6400 - val_accuracy: 0.5400\n",
      "Epoch 26/100\n",
      "10/10 [==============================] - 9s 968ms/step - loss: 1.4506 - accuracy: 0.5650 - val_loss: 1.2360 - val_accuracy: 0.6600\n",
      "Epoch 27/100\n",
      "10/10 [==============================] - 10s 984ms/step - loss: 1.4107 - accuracy: 0.6100 - val_loss: 1.2939 - val_accuracy: 0.6200\n",
      "Epoch 28/100\n",
      "10/10 [==============================] - 10s 980ms/step - loss: 1.3265 - accuracy: 0.6100 - val_loss: 1.1942 - val_accuracy: 0.6600\n",
      "Epoch 29/100\n",
      "10/10 [==============================] - 9s 946ms/step - loss: 1.2526 - accuracy: 0.6150 - val_loss: 1.2263 - val_accuracy: 0.6600\n",
      "Epoch 30/100\n",
      "10/10 [==============================] - 9s 955ms/step - loss: 1.1889 - accuracy: 0.6750 - val_loss: 1.1645 - val_accuracy: 0.6800\n",
      "Epoch 31/100\n",
      "10/10 [==============================] - 9s 936ms/step - loss: 1.1639 - accuracy: 0.6550 - val_loss: 1.2881 - val_accuracy: 0.6000\n",
      "Epoch 32/100\n",
      "10/10 [==============================] - 9s 970ms/step - loss: 1.0661 - accuracy: 0.6250 - val_loss: 1.0429 - val_accuracy: 0.7200\n",
      "Epoch 33/100\n",
      "10/10 [==============================] - 10s 983ms/step - loss: 1.2847 - accuracy: 0.6050 - val_loss: 1.3019 - val_accuracy: 0.6000\n",
      "Epoch 34/100\n",
      "10/10 [==============================] - 10s 965ms/step - loss: 1.1596 - accuracy: 0.6350 - val_loss: 1.1154 - val_accuracy: 0.7200\n",
      "Epoch 35/100\n",
      "10/10 [==============================] - 9s 954ms/step - loss: 1.2716 - accuracy: 0.5900 - val_loss: 1.0868 - val_accuracy: 0.6000\n",
      "Epoch 36/100\n",
      "10/10 [==============================] - 9s 925ms/step - loss: 1.1901 - accuracy: 0.6550 - val_loss: 0.9286 - val_accuracy: 0.6800\n",
      "Epoch 37/100\n",
      "10/10 [==============================] - 9s 923ms/step - loss: 1.0377 - accuracy: 0.7050 - val_loss: 0.9802 - val_accuracy: 0.6800\n",
      "Epoch 38/100\n",
      "10/10 [==============================] - 9s 950ms/step - loss: 0.9523 - accuracy: 0.7150 - val_loss: 0.9476 - val_accuracy: 0.6600\n",
      "Epoch 39/100\n",
      "10/10 [==============================] - 9s 933ms/step - loss: 0.8771 - accuracy: 0.7450 - val_loss: 0.8452 - val_accuracy: 0.7200\n",
      "Epoch 40/100\n",
      "10/10 [==============================] - 9s 914ms/step - loss: 1.0464 - accuracy: 0.7100 - val_loss: 0.8143 - val_accuracy: 0.7800\n",
      "Epoch 41/100\n",
      "10/10 [==============================] - 9s 925ms/step - loss: 0.9064 - accuracy: 0.7300 - val_loss: 0.8037 - val_accuracy: 0.7400\n",
      "Epoch 42/100\n",
      "10/10 [==============================] - 9s 934ms/step - loss: 0.8633 - accuracy: 0.7350 - val_loss: 0.8690 - val_accuracy: 0.7200\n",
      "Epoch 43/100\n",
      "10/10 [==============================] - 9s 932ms/step - loss: 0.9267 - accuracy: 0.7300 - val_loss: 0.7922 - val_accuracy: 0.7200\n",
      "Epoch 44/100\n",
      "10/10 [==============================] - 9s 914ms/step - loss: 0.7379 - accuracy: 0.7800 - val_loss: 0.7300 - val_accuracy: 0.7600\n",
      "Epoch 45/100\n",
      "10/10 [==============================] - 9s 934ms/step - loss: 0.7491 - accuracy: 0.7700 - val_loss: 0.6613 - val_accuracy: 0.8200\n",
      "Epoch 46/100\n",
      "10/10 [==============================] - 9s 925ms/step - loss: 0.8148 - accuracy: 0.7800 - val_loss: 0.8872 - val_accuracy: 0.7800\n",
      "Epoch 47/100\n",
      "10/10 [==============================] - 9s 912ms/step - loss: 0.6834 - accuracy: 0.7950 - val_loss: 0.8037 - val_accuracy: 0.7600\n",
      "Epoch 48/100\n",
      "10/10 [==============================] - 9s 938ms/step - loss: 0.9414 - accuracy: 0.7250 - val_loss: 0.7847 - val_accuracy: 0.7200\n",
      "Epoch 49/100\n",
      "10/10 [==============================] - 9s 929ms/step - loss: 0.8709 - accuracy: 0.7500 - val_loss: 1.1215 - val_accuracy: 0.6200\n",
      "Epoch 50/100\n",
      "10/10 [==============================] - 9s 932ms/step - loss: 0.6397 - accuracy: 0.8100 - val_loss: 1.0788 - val_accuracy: 0.6600\n",
      "Epoch 51/100\n",
      "10/10 [==============================] - 9s 947ms/step - loss: 0.7196 - accuracy: 0.7950 - val_loss: 0.7409 - val_accuracy: 0.7400\n",
      "Epoch 52/100\n",
      "10/10 [==============================] - 9s 917ms/step - loss: 0.8008 - accuracy: 0.7750 - val_loss: 0.7033 - val_accuracy: 0.8000\n",
      "Epoch 53/100\n",
      "10/10 [==============================] - 9s 935ms/step - loss: 0.6689 - accuracy: 0.7900 - val_loss: 0.7761 - val_accuracy: 0.7800\n",
      "Epoch 54/100\n",
      "10/10 [==============================] - 9s 950ms/step - loss: 0.7681 - accuracy: 0.7550 - val_loss: 0.9621 - val_accuracy: 0.6800\n",
      "Epoch 55/100\n",
      "10/10 [==============================] - 9s 928ms/step - loss: 0.6179 - accuracy: 0.8300 - val_loss: 0.6665 - val_accuracy: 0.7800\n",
      "Epoch 56/100\n",
      "10/10 [==============================] - 9s 950ms/step - loss: 0.6338 - accuracy: 0.8050 - val_loss: 0.7407 - val_accuracy: 0.7200\n",
      "Epoch 57/100\n",
      "10/10 [==============================] - 9s 912ms/step - loss: 0.6323 - accuracy: 0.8000 - val_loss: 0.6102 - val_accuracy: 0.8400\n"
     ]
    },
    {
     "name": "stdout",
     "output_type": "stream",
     "text": [
      "Epoch 58/100\n",
      "10/10 [==============================] - 10s 976ms/step - loss: 0.5696 - accuracy: 0.8500 - val_loss: 0.5984 - val_accuracy: 0.8200\n",
      "Epoch 59/100\n",
      "10/10 [==============================] - 11s 1s/step - loss: 0.6299 - accuracy: 0.8100 - val_loss: 0.6521 - val_accuracy: 0.7600\n",
      "Epoch 60/100\n",
      "10/10 [==============================] - 12s 1s/step - loss: 0.5001 - accuracy: 0.8450 - val_loss: 0.6441 - val_accuracy: 0.7600\n",
      "Epoch 61/100\n",
      "10/10 [==============================] - 11s 977ms/step - loss: 0.7305 - accuracy: 0.7500 - val_loss: 0.8213 - val_accuracy: 0.7200\n",
      "Epoch 62/100\n",
      "10/10 [==============================] - 9s 943ms/step - loss: 0.7228 - accuracy: 0.7750 - val_loss: 0.7381 - val_accuracy: 0.7800\n",
      "Epoch 63/100\n",
      "10/10 [==============================] - 9s 933ms/step - loss: 0.6932 - accuracy: 0.7800 - val_loss: 0.7672 - val_accuracy: 0.7000\n",
      "Epoch 64/100\n",
      "10/10 [==============================] - 9s 943ms/step - loss: 0.5979 - accuracy: 0.8150 - val_loss: 0.6159 - val_accuracy: 0.8400\n",
      "Epoch 65/100\n",
      "10/10 [==============================] - 9s 930ms/step - loss: 0.4793 - accuracy: 0.8500 - val_loss: 0.5514 - val_accuracy: 0.7800\n",
      "Epoch 66/100\n",
      "10/10 [==============================] - 9s 919ms/step - loss: 0.4819 - accuracy: 0.8400 - val_loss: 0.5960 - val_accuracy: 0.7600\n",
      "Epoch 67/100\n",
      "10/10 [==============================] - 9s 942ms/step - loss: 0.4912 - accuracy: 0.8650 - val_loss: 0.7539 - val_accuracy: 0.7400\n",
      "Epoch 68/100\n",
      "10/10 [==============================] - 9s 928ms/step - loss: 0.4592 - accuracy: 0.8700 - val_loss: 0.7538 - val_accuracy: 0.7800\n",
      "Epoch 69/100\n",
      "10/10 [==============================] - 9s 925ms/step - loss: 0.5325 - accuracy: 0.8400 - val_loss: 0.6497 - val_accuracy: 0.7800\n",
      "Epoch 70/100\n",
      "10/10 [==============================] - 10s 956ms/step - loss: 0.4917 - accuracy: 0.8450 - val_loss: 0.6090 - val_accuracy: 0.7800\n",
      "Epoch 71/100\n",
      "10/10 [==============================] - 9s 934ms/step - loss: 0.4473 - accuracy: 0.8550 - val_loss: 0.6799 - val_accuracy: 0.8000\n",
      "Epoch 72/100\n",
      "10/10 [==============================] - 10s 965ms/step - loss: 0.5219 - accuracy: 0.8500 - val_loss: 0.8688 - val_accuracy: 0.7400\n",
      "Epoch 73/100\n",
      "10/10 [==============================] - 10s 1s/step - loss: 0.3613 - accuracy: 0.9000 - val_loss: 0.5323 - val_accuracy: 0.8800\n",
      "Epoch 74/100\n",
      "10/10 [==============================] - 10s 1s/step - loss: 0.4956 - accuracy: 0.8650 - val_loss: 0.7834 - val_accuracy: 0.7400\n",
      "Epoch 75/100\n",
      "10/10 [==============================] - 9s 972ms/step - loss: 0.3678 - accuracy: 0.8750 - val_loss: 0.7747 - val_accuracy: 0.8200\n",
      "Epoch 76/100\n",
      "10/10 [==============================] - 9s 951ms/step - loss: 0.4853 - accuracy: 0.8550 - val_loss: 0.7692 - val_accuracy: 0.7200\n",
      "Epoch 77/100\n",
      "10/10 [==============================] - 9s 939ms/step - loss: 0.3667 - accuracy: 0.8750 - val_loss: 0.5247 - val_accuracy: 0.8400\n",
      "Epoch 78/100\n",
      "10/10 [==============================] - 9s 934ms/step - loss: 0.3556 - accuracy: 0.8850 - val_loss: 0.7849 - val_accuracy: 0.7600\n",
      "Epoch 79/100\n",
      "10/10 [==============================] - 9s 935ms/step - loss: 0.3822 - accuracy: 0.8950 - val_loss: 0.7624 - val_accuracy: 0.7400\n",
      "Epoch 80/100\n",
      "10/10 [==============================] - 9s 949ms/step - loss: 0.4550 - accuracy: 0.8800 - val_loss: 0.7907 - val_accuracy: 0.7600\n",
      "Epoch 81/100\n",
      "10/10 [==============================] - 9s 931ms/step - loss: 0.3565 - accuracy: 0.8850 - val_loss: 0.5382 - val_accuracy: 0.8600\n",
      "Epoch 82/100\n",
      "10/10 [==============================] - 10s 986ms/step - loss: 0.3528 - accuracy: 0.8950 - val_loss: 1.0747 - val_accuracy: 0.7000\n",
      "Epoch 83/100\n",
      "10/10 [==============================] - 9s 939ms/step - loss: 0.4229 - accuracy: 0.8750 - val_loss: 0.6889 - val_accuracy: 0.8600\n",
      "Epoch 84/100\n",
      "10/10 [==============================] - 9s 950ms/step - loss: 0.5420 - accuracy: 0.8250 - val_loss: 0.8642 - val_accuracy: 0.7600\n",
      "Epoch 85/100\n",
      "10/10 [==============================] - 9s 918ms/step - loss: 0.5072 - accuracy: 0.8450 - val_loss: 0.4723 - val_accuracy: 0.8800\n",
      "Epoch 86/100\n",
      "10/10 [==============================] - 9s 942ms/step - loss: 0.4869 - accuracy: 0.8700 - val_loss: 0.8484 - val_accuracy: 0.7600\n",
      "Epoch 87/100\n",
      "10/10 [==============================] - 9s 921ms/step - loss: 0.3560 - accuracy: 0.8850 - val_loss: 0.7890 - val_accuracy: 0.7800\n",
      "Epoch 88/100\n",
      "10/10 [==============================] - 9s 924ms/step - loss: 0.5288 - accuracy: 0.8050 - val_loss: 0.6948 - val_accuracy: 0.8000\n",
      "Epoch 89/100\n",
      "10/10 [==============================] - 9s 919ms/step - loss: 0.4286 - accuracy: 0.8950 - val_loss: 0.5301 - val_accuracy: 0.8800\n",
      "Epoch 90/100\n",
      "10/10 [==============================] - 9s 931ms/step - loss: 0.2948 - accuracy: 0.9100 - val_loss: 0.8208 - val_accuracy: 0.7600\n",
      "Epoch 91/100\n",
      "10/10 [==============================] - 9s 934ms/step - loss: 0.3151 - accuracy: 0.9050 - val_loss: 0.7099 - val_accuracy: 0.8000\n",
      "Epoch 92/100\n",
      "10/10 [==============================] - 9s 941ms/step - loss: 0.3273 - accuracy: 0.9050 - val_loss: 0.5287 - val_accuracy: 0.8800\n",
      "Epoch 93/100\n",
      "10/10 [==============================] - 9s 941ms/step - loss: 0.3563 - accuracy: 0.9100 - val_loss: 0.8158 - val_accuracy: 0.7400\n",
      "Epoch 94/100\n",
      "10/10 [==============================] - 9s 949ms/step - loss: 0.3664 - accuracy: 0.8900 - val_loss: 0.7067 - val_accuracy: 0.8000\n",
      "Epoch 95/100\n",
      "10/10 [==============================] - 9s 931ms/step - loss: 0.4345 - accuracy: 0.8950 - val_loss: 0.6418 - val_accuracy: 0.8400\n",
      "Epoch 96/100\n",
      "10/10 [==============================] - 9s 920ms/step - loss: 0.3891 - accuracy: 0.8450 - val_loss: 0.9309 - val_accuracy: 0.8000\n",
      "Epoch 97/100\n",
      "10/10 [==============================] - 9s 929ms/step - loss: 0.2781 - accuracy: 0.9100 - val_loss: 0.7102 - val_accuracy: 0.8200\n",
      "Epoch 98/100\n",
      "10/10 [==============================] - 9s 910ms/step - loss: 0.3648 - accuracy: 0.9150 - val_loss: 0.5886 - val_accuracy: 0.8600\n",
      "Epoch 99/100\n",
      "10/10 [==============================] - 9s 920ms/step - loss: 0.3440 - accuracy: 0.8900 - val_loss: 0.7150 - val_accuracy: 0.8000\n",
      "Epoch 100/100\n",
      "10/10 [==============================] - 9s 946ms/step - loss: 0.2229 - accuracy: 0.9400 - val_loss: 0.7347 - val_accuracy: 0.7800\n"
     ]
    }
   ],
   "source": [
    "history = classifier.fit_generator(training_set, epochs =100,\n",
    "                                  validation_data=validation_set)"
   ]
  },
  {
   "cell_type": "code",
   "execution_count": 100,
   "id": "5c14f6a1",
   "metadata": {},
   "outputs": [],
   "source": [
    "#Displaying curves of loss and accuracy during training"
   ]
  },
  {
   "cell_type": "code",
   "execution_count": 101,
   "id": "b208c4af",
   "metadata": {},
   "outputs": [],
   "source": [
    "import matplotlib.pyplot as plt"
   ]
  },
  {
   "cell_type": "code",
   "execution_count": 102,
   "id": "661ff31e",
   "metadata": {},
   "outputs": [],
   "source": [
    "acc = history.history['accuracy']"
   ]
  },
  {
   "cell_type": "code",
   "execution_count": 103,
   "id": "fee6cad0",
   "metadata": {},
   "outputs": [],
   "source": [
    "val_acc = history.history['val_accuracy']"
   ]
  },
  {
   "cell_type": "code",
   "execution_count": 104,
   "id": "b81a782b",
   "metadata": {},
   "outputs": [],
   "source": [
    "loss = history.history['loss']"
   ]
  },
  {
   "cell_type": "code",
   "execution_count": 105,
   "id": "32a8ec9e",
   "metadata": {},
   "outputs": [],
   "source": [
    "val_loss = history.history['val_loss']"
   ]
  },
  {
   "cell_type": "code",
   "execution_count": 106,
   "id": "18374cbe",
   "metadata": {},
   "outputs": [],
   "source": [
    "epochs = range(1, len(acc) + 1)"
   ]
  },
  {
   "cell_type": "code",
   "execution_count": 107,
   "id": "9e1bc8ea",
   "metadata": {},
   "outputs": [
    {
     "data": {
      "text/plain": [
       "<Figure size 640x480 with 0 Axes>"
      ]
     },
     "execution_count": 107,
     "metadata": {},
     "output_type": "execute_result"
    },
    {
     "data": {
      "image/png": "[encoded data removed]",
      "text/plain": [
       "<Figure size 640x480 with 1 Axes>"
      ]
     },
     "metadata": {},
     "output_type": "display_data"
    },
    {
     "data": {
      "text/plain": [
       "<Figure size 640x480 with 0 Axes>"
      ]
     },
     "metadata": {},
     "output_type": "display_data"
    }
   ],
   "source": [
    "plt.plot(epochs, acc, 'bo', label='Training acc')\n",
    "plt.plot(epochs, val_acc, 'g', label='Validation acc')\n",
    "plt.title('Training and validation accuracy')\n",
    "plt.legend()\n",
    "plt.figure()"
   ]
  },
  {
   "cell_type": "code",
   "execution_count": 108,
   "id": "b9a1412f",
   "metadata": {},
   "outputs": [
    {
     "data": {
      "text/plain": [
       "<Figure size 640x480 with 0 Axes>"
      ]
     },
     "execution_count": 108,
     "metadata": {},
     "output_type": "execute_result"
    },
    {
     "data": {
      "image/png": "[encoded data removed]",
      "text/plain": [
       "<Figure size 640x480 with 1 Axes>"
      ]
     },
     "metadata": {},
     "output_type": "display_data"
    },
    {
     "data": {
      "text/plain": [
       "<Figure size 640x480 with 0 Axes>"
      ]
     },
     "metadata": {},
     "output_type": "display_data"
    }
   ],
   "source": [
    "plt.plot(epochs, loss, 'bo', label='Training loss')\n",
    "plt.plot(epochs, val_loss, 'g', label='Validation loss')\n",
    "plt.title('Training and validation loss')\n",
    "plt.legend()\n",
    "plt.figure()"
   ]
  },
  {
   "cell_type": "code",
   "execution_count": null,
   "id": "3ec302f7",
   "metadata": {},
   "outputs": [],
   "source": [
    " "
   ]
  },
  {
   "cell_type": "code",
   "execution_count": null,
   "id": "16f07878",
   "metadata": {},
   "outputs": [],
   "source": []
  }
 ],
 "metadata": {
  "kernelspec": {
   "display_name": "Python 3 (ipykernel)",
   "language": "python",
   "name": "python3"
  },
  "language_info": {
   "codemirror_mode": {
    "name": "ipython",
    "version": 3
   },
   "file_extension": ".py",
   "mimetype": "text/x-python",
   "name": "python",
   "nbconvert_exporter": "python",
   "pygments_lexer": "ipython3",
   "version": "3.9.13"
  }
 },
 "nbformat": 4,
 "nbformat_minor": 5
}
